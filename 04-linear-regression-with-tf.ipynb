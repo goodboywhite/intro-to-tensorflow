{
 "cells": [
  {
   "cell_type": "markdown",
   "metadata": {
    "collapsed": true,
    "slideshow": {
     "slide_type": "slide"
    }
   },
   "source": [
    "# Introduction to TensorFlow\n",
    "\n",
    "> Linear Regression with TensorFlow\n",
    "\n",
    "郭耀仁"
   ]
  },
  {
   "cell_type": "markdown",
   "metadata": {
    "slideshow": {
     "slide_type": "subslide"
    }
   },
   "source": [
    "## 大綱\n",
    "\n",
    "- 取得資料\n",
    "- 建構 TensorFlow 計算圖形\n",
    "- 訓練\n",
    "- 檢視 TensorBoard\n",
    "- 加入 Name Scopes\n",
    "- 隨堂練習"
   ]
  },
  {
   "cell_type": "markdown",
   "metadata": {
    "slideshow": {
     "slide_type": "slide"
    }
   },
   "source": [
    "## 取得資料"
   ]
  },
  {
   "cell_type": "markdown",
   "metadata": {
    "slideshow": {
     "slide_type": "subslide"
    }
   },
   "source": [
    "## 簡單、作為測試目的即可\n",
    "\n",
    "Scikit-Learn Boston 房價資料集"
   ]
  },
  {
   "cell_type": "code",
   "execution_count": 1,
   "metadata": {
    "slideshow": {
     "slide_type": "subslide"
    }
   },
   "outputs": [
    {
     "name": "stdout",
     "output_type": "stream",
     "text": [
      "['CRIM' 'ZN' 'INDUS' 'CHAS' 'NOX' 'RM' 'AGE' 'DIS' 'RAD' 'TAX' 'PTRATIO'\n",
      " 'B' 'LSTAT']\n",
      ".. _boston_dataset:\n",
      "\n",
      "Boston house prices dataset\n",
      "---------------------------\n",
      "\n",
      "**Data Set Characteristics:**  \n",
      "\n",
      "    :Number of Instances: 506 \n",
      "\n",
      "    :Number of Attributes: 13 numeric/categorical predictive. Median Value (attribute 14) is usually the target.\n",
      "\n",
      "    :Attribute Information (in order):\n",
      "        - CRIM     per capita crime rate by town\n",
      "        - ZN       proportion of residential land zoned for lots over 25,000 sq.ft.\n",
      "        - INDUS    proportion of non-retail business acres per town\n",
      "        - CHAS     Charles River dummy variable (= 1 if tract bounds river; 0 otherwise)\n",
      "        - NOX      nitric oxides concentration (parts per 10 million)\n",
      "        - RM       average number of rooms per dwelling\n",
      "        - AGE      proportion of owner-occupied units built prior to 1940\n",
      "        - DIS      weighted distances to five Boston employment centres\n",
      "        - RAD      index of accessibility to radial highways\n",
      "        - TAX      full-value property-tax rate per $10,000\n",
      "        - PTRATIO  pupil-teacher ratio by town\n",
      "        - B        1000(Bk - 0.63)^2 where Bk is the proportion of blacks by town\n",
      "        - LSTAT    % lower status of the population\n",
      "        - MEDV     Median value of owner-occupied homes in $1000's\n",
      "\n",
      "    :Missing Attribute Values: None\n",
      "\n",
      "    :Creator: Harrison, D. and Rubinfeld, D.L.\n",
      "\n",
      "This is a copy of UCI ML housing dataset.\n",
      "https://archive.ics.uci.edu/ml/machine-learning-databases/housing/\n",
      "\n",
      "\n",
      "This dataset was taken from the StatLib library which is maintained at Carnegie Mellon University.\n",
      "\n",
      "The Boston house-price data of Harrison, D. and Rubinfeld, D.L. 'Hedonic\n",
      "prices and the demand for clean air', J. Environ. Economics & Management,\n",
      "vol.5, 81-102, 1978.   Used in Belsley, Kuh & Welsch, 'Regression diagnostics\n",
      "...', Wiley, 1980.   N.B. Various transformations are used in the table on\n",
      "pages 244-261 of the latter.\n",
      "\n",
      "The Boston house-price data has been used in many machine learning papers that address regression\n",
      "problems.   \n",
      "     \n",
      ".. topic:: References\n",
      "\n",
      "   - Belsley, Kuh & Welsch, 'Regression diagnostics: Identifying Influential Data and Sources of Collinearity', Wiley, 1980. 244-261.\n",
      "   - Quinlan,R. (1993). Combining Instance-Based and Model-Based Learning. In Proceedings on the Tenth International Conference of Machine Learning, 236-243, University of Massachusetts, Amherst. Morgan Kaufmann.\n",
      "\n"
     ]
    }
   ],
   "source": [
    "from sklearn.datasets import load_boston\n",
    "\n",
    "boston = load_boston()\n",
    "print(boston.feature_names)\n",
    "print(boston.DESCR)"
   ]
  },
  {
   "cell_type": "code",
   "execution_count": 2,
   "metadata": {
    "slideshow": {
     "slide_type": "subslide"
    }
   },
   "outputs": [
    {
     "name": "stdout",
     "output_type": "stream",
     "text": [
      "(506, 1)\n",
      "(506,)\n"
     ]
    }
   ],
   "source": [
    "X_arr = boston.data[:, -1].reshape(-1, 1)\n",
    "y_arr = boston.target\n",
    "print(X_arr.shape)\n",
    "print(y_arr.shape)"
   ]
  },
  {
   "cell_type": "code",
   "execution_count": 3,
   "metadata": {
    "slideshow": {
     "slide_type": "subslide"
    }
   },
   "outputs": [
    {
     "name": "stdout",
     "output_type": "stream",
     "text": [
      "(354, 1)\n",
      "(152, 1)\n",
      "(354,)\n",
      "(152,)\n"
     ]
    }
   ],
   "source": [
    "from sklearn.model_selection import train_test_split\n",
    "\n",
    "X_train, X_test, y_train, y_test = train_test_split(X_arr, y_arr, test_size=0.3, random_state=123)\n",
    "print(X_train.shape)\n",
    "print(X_test.shape)\n",
    "print(y_train.shape)\n",
    "print(y_test.shape)"
   ]
  },
  {
   "cell_type": "markdown",
   "metadata": {
    "slideshow": {
     "slide_type": "slide"
    }
   },
   "source": [
    "## 建構 TensorFlow 計算圖形"
   ]
  },
  {
   "cell_type": "markdown",
   "metadata": {
    "slideshow": {
     "slide_type": "subslide"
    }
   },
   "source": [
    "## 準備 Placeholders 供訓練時輸入 X_train、y_train"
   ]
  },
  {
   "cell_type": "code",
   "execution_count": 4,
   "metadata": {},
   "outputs": [],
   "source": [
    "import tensorflow as tf\n",
    "\n",
    "X_train_shape = X_train.shape\n",
    "y_train_shape = y_train.shape\n",
    "X = tf.placeholder(tf.float32, X_train_shape)\n",
    "y = tf.placeholder(tf.float32, y_train_shape)"
   ]
  },
  {
   "cell_type": "markdown",
   "metadata": {
    "slideshow": {
     "slide_type": "subslide"
    }
   },
   "source": [
    "## 準備變數供訓練時尋找最適係數（Weights）與殘差項（Bias）"
   ]
  },
  {
   "cell_type": "code",
   "execution_count": 5,
   "metadata": {
    "slideshow": {
     "slide_type": "-"
    }
   },
   "outputs": [
    {
     "name": "stdout",
     "output_type": "stream",
     "text": [
      "WARNING:tensorflow:From /Users/kuoyaojen/anaconda3/envs/tensorflow/lib/python3.6/site-packages/tensorflow/python/framework/op_def_library.py:263: colocate_with (from tensorflow.python.framework.ops) is deprecated and will be removed in a future version.\n",
      "Instructions for updating:\n",
      "Colocations handled automatically by placer.\n",
      "[[-1.0975873]]\n",
      "[0.79843736]\n"
     ]
    }
   ],
   "source": [
    "W_shape = (X_train_shape[1], 1)\n",
    "b_shape = (1,)\n",
    "W = tf.Variable(tf.random_normal(W_shape))\n",
    "b = tf.Variable(tf.random_normal(b_shape))\n",
    "with tf.Session() as sess:\n",
    "    sess.run(W.initializer)\n",
    "    sess.run(b.initializer)\n",
    "    print(sess.run(W))\n",
    "    print(sess.run(b))"
   ]
  },
  {
   "cell_type": "markdown",
   "metadata": {
    "slideshow": {
     "slide_type": "subslide"
    }
   },
   "source": [
    "## 檢查 X、W 與 b 的外觀，寫下 y_pred 的公式"
   ]
  },
  {
   "cell_type": "code",
   "execution_count": 6,
   "metadata": {
    "slideshow": {
     "slide_type": "-"
    }
   },
   "outputs": [
    {
     "name": "stdout",
     "output_type": "stream",
     "text": [
      "(354, 1)\n",
      "(1, 1)\n",
      "(1,)\n",
      "(354, 1)\n"
     ]
    }
   ],
   "source": [
    "y_pred = tf.add(tf.matmul(X, W), b)\n",
    "print(X.shape)\n",
    "print(W.shape)\n",
    "print(b.shape)\n",
    "print(y_pred.shape)"
   ]
  },
  {
   "cell_type": "code",
   "execution_count": 7,
   "metadata": {},
   "outputs": [
    {
     "name": "stdout",
     "output_type": "stream",
     "text": [
      "Tensor(\"Add:0\", shape=(354, 1), dtype=float32)\n",
      "Tensor(\"Placeholder:0\", shape=(354, 1), dtype=float32)\n"
     ]
    }
   ],
   "source": [
    "print(y_pred)\n",
    "print(X)"
   ]
  },
  {
   "cell_type": "markdown",
   "metadata": {
    "slideshow": {
     "slide_type": "subslide"
    }
   },
   "source": [
    "## 寫下成本函數的公式"
   ]
  },
  {
   "cell_type": "code",
   "execution_count": 8,
   "metadata": {},
   "outputs": [],
   "source": [
    "loss = tf.reduce_sum(tf.pow(tf.subtract(y, y_pred), 2))"
   ]
  },
  {
   "cell_type": "markdown",
   "metadata": {
    "slideshow": {
     "slide_type": "subslide"
    }
   },
   "source": [
    "## 宣告學習速率與 Optimizer"
   ]
  },
  {
   "cell_type": "code",
   "execution_count": 9,
   "metadata": {},
   "outputs": [],
   "source": [
    "alpha = 0.001\n",
    "optimizer = tf.train.GradientDescentOptimizer(alpha).minimize(loss)"
   ]
  },
  {
   "cell_type": "markdown",
   "metadata": {
    "slideshow": {
     "slide_type": "subslide"
    }
   },
   "source": [
    "## 建構 TensorFlow 計算圖形完整程式碼"
   ]
  },
  {
   "cell_type": "code",
   "execution_count": 10,
   "metadata": {},
   "outputs": [],
   "source": [
    "import tensorflow as tf\n",
    "\n",
    "X_train_shape = X_train.shape\n",
    "y_train_shape = y_train.shape\n",
    "W_shape = (X_train_shape[1], 1)\n",
    "b_shape = (1,)\n",
    "alpha = 0.001\n",
    "file_writer_path = \"./graphs/linear-regression\"\n",
    "\n",
    "# placeholders\n",
    "X = tf.placeholder(tf.float32, X_train_shape)\n",
    "y = tf.placeholder(tf.float32, y_train_shape)\n",
    "# variables\n",
    "W = tf.Variable(tf.random_normal(W_shape))\n",
    "b = tf.Variable(tf.random_normal(b_shape))\n",
    "# prediction\n",
    "y_pred = tf.add(tf.matmul(X, W), b)\n",
    "# loss\n",
    "loss = tf.reduce_sum(tf.pow(tf.subtract(y, y_pred), 2))\n",
    "# optimizer\n",
    "optimizer = tf.train.GradientDescentOptimizer(alpha).minimize(loss)"
   ]
  },
  {
   "cell_type": "markdown",
   "metadata": {
    "slideshow": {
     "slide_type": "slide"
    }
   },
   "source": [
    "## 訓練"
   ]
  },
  {
   "cell_type": "code",
   "execution_count": 11,
   "metadata": {
    "slideshow": {
     "slide_type": "subslide"
    }
   },
   "outputs": [
    {
     "name": "stdout",
     "output_type": "stream",
     "text": [
      "epoch 0, loss: 111882688.0\n"
     ]
    },
    {
     "ename": "TypeError",
     "evalue": "Fetch argument 111882690.0 has invalid type <class 'numpy.float32'>, must be a string or Tensor. (Can not convert a float32 into a Tensor or Operation.)",
     "output_type": "error",
     "traceback": [
      "\u001b[0;31m---------------------------------------------------------------------------\u001b[0m",
      "\u001b[0;31mTypeError\u001b[0m                                 Traceback (most recent call last)",
      "\u001b[0;32m~/anaconda3/envs/tensorflow/lib/python3.6/site-packages/tensorflow/python/client/session.py\u001b[0m in \u001b[0;36m__init__\u001b[0;34m(self, fetches, contraction_fn)\u001b[0m\n\u001b[1;32m    299\u001b[0m         self._unique_fetches.append(ops.get_default_graph().as_graph_element(\n\u001b[0;32m--> 300\u001b[0;31m             fetch, allow_tensor=True, allow_operation=True))\n\u001b[0m\u001b[1;32m    301\u001b[0m       \u001b[0;32mexcept\u001b[0m \u001b[0mTypeError\u001b[0m \u001b[0;32mas\u001b[0m \u001b[0me\u001b[0m\u001b[0;34m:\u001b[0m\u001b[0;34m\u001b[0m\u001b[0;34m\u001b[0m\u001b[0m\n",
      "\u001b[0;32m~/anaconda3/envs/tensorflow/lib/python3.6/site-packages/tensorflow/python/framework/ops.py\u001b[0m in \u001b[0;36mas_graph_element\u001b[0;34m(self, obj, allow_tensor, allow_operation)\u001b[0m\n\u001b[1;32m   3477\u001b[0m     \u001b[0;32mwith\u001b[0m \u001b[0mself\u001b[0m\u001b[0;34m.\u001b[0m\u001b[0m_lock\u001b[0m\u001b[0;34m:\u001b[0m\u001b[0;34m\u001b[0m\u001b[0;34m\u001b[0m\u001b[0m\n\u001b[0;32m-> 3478\u001b[0;31m       \u001b[0;32mreturn\u001b[0m \u001b[0mself\u001b[0m\u001b[0;34m.\u001b[0m\u001b[0m_as_graph_element_locked\u001b[0m\u001b[0;34m(\u001b[0m\u001b[0mobj\u001b[0m\u001b[0;34m,\u001b[0m \u001b[0mallow_tensor\u001b[0m\u001b[0;34m,\u001b[0m \u001b[0mallow_operation\u001b[0m\u001b[0;34m)\u001b[0m\u001b[0;34m\u001b[0m\u001b[0;34m\u001b[0m\u001b[0m\n\u001b[0m\u001b[1;32m   3479\u001b[0m \u001b[0;34m\u001b[0m\u001b[0m\n",
      "\u001b[0;32m~/anaconda3/envs/tensorflow/lib/python3.6/site-packages/tensorflow/python/framework/ops.py\u001b[0m in \u001b[0;36m_as_graph_element_locked\u001b[0;34m(self, obj, allow_tensor, allow_operation)\u001b[0m\n\u001b[1;32m   3566\u001b[0m       raise TypeError(\"Can not convert a %s into a %s.\" % (type(obj).__name__,\n\u001b[0;32m-> 3567\u001b[0;31m                                                            types_str))\n\u001b[0m\u001b[1;32m   3568\u001b[0m \u001b[0;34m\u001b[0m\u001b[0m\n",
      "\u001b[0;31mTypeError\u001b[0m: Can not convert a float32 into a Tensor or Operation.",
      "\nDuring handling of the above exception, another exception occurred:\n",
      "\u001b[0;31mTypeError\u001b[0m                                 Traceback (most recent call last)",
      "\u001b[0;32m<ipython-input-11-738fbfabb513>\u001b[0m in \u001b[0;36m<module>\u001b[0;34m\u001b[0m\n\u001b[1;32m     11\u001b[0m             \u001b[0my\u001b[0m\u001b[0;34m:\u001b[0m \u001b[0my_train\u001b[0m\u001b[0;34m\u001b[0m\u001b[0;34m\u001b[0m\u001b[0m\n\u001b[1;32m     12\u001b[0m         }\n\u001b[0;32m---> 13\u001b[0;31m         \u001b[0m_\u001b[0m\u001b[0;34m,\u001b[0m \u001b[0mloss\u001b[0m \u001b[0;34m=\u001b[0m \u001b[0msess\u001b[0m\u001b[0;34m.\u001b[0m\u001b[0mrun\u001b[0m\u001b[0;34m(\u001b[0m\u001b[0;34m[\u001b[0m\u001b[0moptimizer\u001b[0m\u001b[0;34m,\u001b[0m \u001b[0mloss\u001b[0m\u001b[0;34m]\u001b[0m\u001b[0;34m,\u001b[0m \u001b[0mfeed_dict\u001b[0m\u001b[0;34m=\u001b[0m\u001b[0mfeed_dict\u001b[0m\u001b[0;34m)\u001b[0m\u001b[0;34m\u001b[0m\u001b[0;34m\u001b[0m\u001b[0m\n\u001b[0m\u001b[1;32m     14\u001b[0m         \u001b[0;32mif\u001b[0m \u001b[0mi\u001b[0m \u001b[0;34m%\u001b[0m \u001b[0;36m100\u001b[0m \u001b[0;34m==\u001b[0m \u001b[0;36m0\u001b[0m\u001b[0;34m:\u001b[0m\u001b[0;34m\u001b[0m\u001b[0;34m\u001b[0m\u001b[0m\n\u001b[1;32m     15\u001b[0m             \u001b[0mprint\u001b[0m\u001b[0;34m(\u001b[0m\u001b[0;34m\"epoch {}, loss: {}\"\u001b[0m\u001b[0;34m.\u001b[0m\u001b[0mformat\u001b[0m\u001b[0;34m(\u001b[0m\u001b[0mi\u001b[0m\u001b[0;34m,\u001b[0m \u001b[0mloss\u001b[0m\u001b[0;34m)\u001b[0m\u001b[0;34m)\u001b[0m\u001b[0;34m\u001b[0m\u001b[0;34m\u001b[0m\u001b[0m\n",
      "\u001b[0;32m~/anaconda3/envs/tensorflow/lib/python3.6/site-packages/tensorflow/python/client/session.py\u001b[0m in \u001b[0;36mrun\u001b[0;34m(self, fetches, feed_dict, options, run_metadata)\u001b[0m\n\u001b[1;32m    927\u001b[0m     \u001b[0;32mtry\u001b[0m\u001b[0;34m:\u001b[0m\u001b[0;34m\u001b[0m\u001b[0;34m\u001b[0m\u001b[0m\n\u001b[1;32m    928\u001b[0m       result = self._run(None, fetches, feed_dict, options_ptr,\n\u001b[0;32m--> 929\u001b[0;31m                          run_metadata_ptr)\n\u001b[0m\u001b[1;32m    930\u001b[0m       \u001b[0;32mif\u001b[0m \u001b[0mrun_metadata\u001b[0m\u001b[0;34m:\u001b[0m\u001b[0;34m\u001b[0m\u001b[0;34m\u001b[0m\u001b[0m\n\u001b[1;32m    931\u001b[0m         \u001b[0mproto_data\u001b[0m \u001b[0;34m=\u001b[0m \u001b[0mtf_session\u001b[0m\u001b[0;34m.\u001b[0m\u001b[0mTF_GetBuffer\u001b[0m\u001b[0;34m(\u001b[0m\u001b[0mrun_metadata_ptr\u001b[0m\u001b[0;34m)\u001b[0m\u001b[0;34m\u001b[0m\u001b[0;34m\u001b[0m\u001b[0m\n",
      "\u001b[0;32m~/anaconda3/envs/tensorflow/lib/python3.6/site-packages/tensorflow/python/client/session.py\u001b[0m in \u001b[0;36m_run\u001b[0;34m(self, handle, fetches, feed_dict, options, run_metadata)\u001b[0m\n\u001b[1;32m   1135\u001b[0m     \u001b[0;31m# Create a fetch handler to take care of the structure of fetches.\u001b[0m\u001b[0;34m\u001b[0m\u001b[0;34m\u001b[0m\u001b[0;34m\u001b[0m\u001b[0m\n\u001b[1;32m   1136\u001b[0m     fetch_handler = _FetchHandler(\n\u001b[0;32m-> 1137\u001b[0;31m         self._graph, fetches, feed_dict_tensor, feed_handles=feed_handles)\n\u001b[0m\u001b[1;32m   1138\u001b[0m \u001b[0;34m\u001b[0m\u001b[0m\n\u001b[1;32m   1139\u001b[0m     \u001b[0;31m# Run request and get response.\u001b[0m\u001b[0;34m\u001b[0m\u001b[0;34m\u001b[0m\u001b[0;34m\u001b[0m\u001b[0m\n",
      "\u001b[0;32m~/anaconda3/envs/tensorflow/lib/python3.6/site-packages/tensorflow/python/client/session.py\u001b[0m in \u001b[0;36m__init__\u001b[0;34m(self, graph, fetches, feeds, feed_handles)\u001b[0m\n\u001b[1;32m    469\u001b[0m     \"\"\"\n\u001b[1;32m    470\u001b[0m     \u001b[0;32mwith\u001b[0m \u001b[0mgraph\u001b[0m\u001b[0;34m.\u001b[0m\u001b[0mas_default\u001b[0m\u001b[0;34m(\u001b[0m\u001b[0;34m)\u001b[0m\u001b[0;34m:\u001b[0m\u001b[0;34m\u001b[0m\u001b[0;34m\u001b[0m\u001b[0m\n\u001b[0;32m--> 471\u001b[0;31m       \u001b[0mself\u001b[0m\u001b[0;34m.\u001b[0m\u001b[0m_fetch_mapper\u001b[0m \u001b[0;34m=\u001b[0m \u001b[0m_FetchMapper\u001b[0m\u001b[0;34m.\u001b[0m\u001b[0mfor_fetch\u001b[0m\u001b[0;34m(\u001b[0m\u001b[0mfetches\u001b[0m\u001b[0;34m)\u001b[0m\u001b[0;34m\u001b[0m\u001b[0;34m\u001b[0m\u001b[0m\n\u001b[0m\u001b[1;32m    472\u001b[0m     \u001b[0mself\u001b[0m\u001b[0;34m.\u001b[0m\u001b[0m_fetches\u001b[0m \u001b[0;34m=\u001b[0m \u001b[0;34m[\u001b[0m\u001b[0;34m]\u001b[0m\u001b[0;34m\u001b[0m\u001b[0;34m\u001b[0m\u001b[0m\n\u001b[1;32m    473\u001b[0m     \u001b[0mself\u001b[0m\u001b[0;34m.\u001b[0m\u001b[0m_targets\u001b[0m \u001b[0;34m=\u001b[0m \u001b[0;34m[\u001b[0m\u001b[0;34m]\u001b[0m\u001b[0;34m\u001b[0m\u001b[0;34m\u001b[0m\u001b[0m\n",
      "\u001b[0;32m~/anaconda3/envs/tensorflow/lib/python3.6/site-packages/tensorflow/python/client/session.py\u001b[0m in \u001b[0;36mfor_fetch\u001b[0;34m(fetch)\u001b[0m\n\u001b[1;32m    259\u001b[0m     \u001b[0;32melif\u001b[0m \u001b[0misinstance\u001b[0m\u001b[0;34m(\u001b[0m\u001b[0mfetch\u001b[0m\u001b[0;34m,\u001b[0m \u001b[0;34m(\u001b[0m\u001b[0mlist\u001b[0m\u001b[0;34m,\u001b[0m \u001b[0mtuple\u001b[0m\u001b[0;34m)\u001b[0m\u001b[0;34m)\u001b[0m\u001b[0;34m:\u001b[0m\u001b[0;34m\u001b[0m\u001b[0;34m\u001b[0m\u001b[0m\n\u001b[1;32m    260\u001b[0m       \u001b[0;31m# NOTE(touts): This is also the code path for namedtuples.\u001b[0m\u001b[0;34m\u001b[0m\u001b[0;34m\u001b[0m\u001b[0;34m\u001b[0m\u001b[0m\n\u001b[0;32m--> 261\u001b[0;31m       \u001b[0;32mreturn\u001b[0m \u001b[0m_ListFetchMapper\u001b[0m\u001b[0;34m(\u001b[0m\u001b[0mfetch\u001b[0m\u001b[0;34m)\u001b[0m\u001b[0;34m\u001b[0m\u001b[0;34m\u001b[0m\u001b[0m\n\u001b[0m\u001b[1;32m    262\u001b[0m     \u001b[0;32melif\u001b[0m \u001b[0misinstance\u001b[0m\u001b[0;34m(\u001b[0m\u001b[0mfetch\u001b[0m\u001b[0;34m,\u001b[0m \u001b[0mcollections\u001b[0m\u001b[0;34m.\u001b[0m\u001b[0mMapping\u001b[0m\u001b[0;34m)\u001b[0m\u001b[0;34m:\u001b[0m\u001b[0;34m\u001b[0m\u001b[0;34m\u001b[0m\u001b[0m\n\u001b[1;32m    263\u001b[0m       \u001b[0;32mreturn\u001b[0m \u001b[0m_DictFetchMapper\u001b[0m\u001b[0;34m(\u001b[0m\u001b[0mfetch\u001b[0m\u001b[0;34m)\u001b[0m\u001b[0;34m\u001b[0m\u001b[0;34m\u001b[0m\u001b[0m\n",
      "\u001b[0;32m~/anaconda3/envs/tensorflow/lib/python3.6/site-packages/tensorflow/python/client/session.py\u001b[0m in \u001b[0;36m__init__\u001b[0;34m(self, fetches)\u001b[0m\n\u001b[1;32m    368\u001b[0m     \"\"\"\n\u001b[1;32m    369\u001b[0m     \u001b[0mself\u001b[0m\u001b[0;34m.\u001b[0m\u001b[0m_fetch_type\u001b[0m \u001b[0;34m=\u001b[0m \u001b[0mtype\u001b[0m\u001b[0;34m(\u001b[0m\u001b[0mfetches\u001b[0m\u001b[0;34m)\u001b[0m\u001b[0;34m\u001b[0m\u001b[0;34m\u001b[0m\u001b[0m\n\u001b[0;32m--> 370\u001b[0;31m     \u001b[0mself\u001b[0m\u001b[0;34m.\u001b[0m\u001b[0m_mappers\u001b[0m \u001b[0;34m=\u001b[0m \u001b[0;34m[\u001b[0m\u001b[0m_FetchMapper\u001b[0m\u001b[0;34m.\u001b[0m\u001b[0mfor_fetch\u001b[0m\u001b[0;34m(\u001b[0m\u001b[0mfetch\u001b[0m\u001b[0;34m)\u001b[0m \u001b[0;32mfor\u001b[0m \u001b[0mfetch\u001b[0m \u001b[0;32min\u001b[0m \u001b[0mfetches\u001b[0m\u001b[0;34m]\u001b[0m\u001b[0;34m\u001b[0m\u001b[0;34m\u001b[0m\u001b[0m\n\u001b[0m\u001b[1;32m    371\u001b[0m     \u001b[0mself\u001b[0m\u001b[0;34m.\u001b[0m\u001b[0m_unique_fetches\u001b[0m\u001b[0;34m,\u001b[0m \u001b[0mself\u001b[0m\u001b[0;34m.\u001b[0m\u001b[0m_value_indices\u001b[0m \u001b[0;34m=\u001b[0m \u001b[0m_uniquify_fetches\u001b[0m\u001b[0;34m(\u001b[0m\u001b[0mself\u001b[0m\u001b[0;34m.\u001b[0m\u001b[0m_mappers\u001b[0m\u001b[0;34m)\u001b[0m\u001b[0;34m\u001b[0m\u001b[0;34m\u001b[0m\u001b[0m\n\u001b[1;32m    372\u001b[0m \u001b[0;34m\u001b[0m\u001b[0m\n",
      "\u001b[0;32m~/anaconda3/envs/tensorflow/lib/python3.6/site-packages/tensorflow/python/client/session.py\u001b[0m in \u001b[0;36m<listcomp>\u001b[0;34m(.0)\u001b[0m\n\u001b[1;32m    368\u001b[0m     \"\"\"\n\u001b[1;32m    369\u001b[0m     \u001b[0mself\u001b[0m\u001b[0;34m.\u001b[0m\u001b[0m_fetch_type\u001b[0m \u001b[0;34m=\u001b[0m \u001b[0mtype\u001b[0m\u001b[0;34m(\u001b[0m\u001b[0mfetches\u001b[0m\u001b[0;34m)\u001b[0m\u001b[0;34m\u001b[0m\u001b[0;34m\u001b[0m\u001b[0m\n\u001b[0;32m--> 370\u001b[0;31m     \u001b[0mself\u001b[0m\u001b[0;34m.\u001b[0m\u001b[0m_mappers\u001b[0m \u001b[0;34m=\u001b[0m \u001b[0;34m[\u001b[0m\u001b[0m_FetchMapper\u001b[0m\u001b[0;34m.\u001b[0m\u001b[0mfor_fetch\u001b[0m\u001b[0;34m(\u001b[0m\u001b[0mfetch\u001b[0m\u001b[0;34m)\u001b[0m \u001b[0;32mfor\u001b[0m \u001b[0mfetch\u001b[0m \u001b[0;32min\u001b[0m \u001b[0mfetches\u001b[0m\u001b[0;34m]\u001b[0m\u001b[0;34m\u001b[0m\u001b[0;34m\u001b[0m\u001b[0m\n\u001b[0m\u001b[1;32m    371\u001b[0m     \u001b[0mself\u001b[0m\u001b[0;34m.\u001b[0m\u001b[0m_unique_fetches\u001b[0m\u001b[0;34m,\u001b[0m \u001b[0mself\u001b[0m\u001b[0;34m.\u001b[0m\u001b[0m_value_indices\u001b[0m \u001b[0;34m=\u001b[0m \u001b[0m_uniquify_fetches\u001b[0m\u001b[0;34m(\u001b[0m\u001b[0mself\u001b[0m\u001b[0;34m.\u001b[0m\u001b[0m_mappers\u001b[0m\u001b[0;34m)\u001b[0m\u001b[0;34m\u001b[0m\u001b[0;34m\u001b[0m\u001b[0m\n\u001b[1;32m    372\u001b[0m \u001b[0;34m\u001b[0m\u001b[0m\n",
      "\u001b[0;32m~/anaconda3/envs/tensorflow/lib/python3.6/site-packages/tensorflow/python/client/session.py\u001b[0m in \u001b[0;36mfor_fetch\u001b[0;34m(fetch)\u001b[0m\n\u001b[1;32m    269\u001b[0m         \u001b[0;32mif\u001b[0m \u001b[0misinstance\u001b[0m\u001b[0;34m(\u001b[0m\u001b[0mfetch\u001b[0m\u001b[0;34m,\u001b[0m \u001b[0mtensor_type\u001b[0m\u001b[0;34m)\u001b[0m\u001b[0;34m:\u001b[0m\u001b[0;34m\u001b[0m\u001b[0;34m\u001b[0m\u001b[0m\n\u001b[1;32m    270\u001b[0m           \u001b[0mfetches\u001b[0m\u001b[0;34m,\u001b[0m \u001b[0mcontraction_fn\u001b[0m \u001b[0;34m=\u001b[0m \u001b[0mfetch_fn\u001b[0m\u001b[0;34m(\u001b[0m\u001b[0mfetch\u001b[0m\u001b[0;34m)\u001b[0m\u001b[0;34m\u001b[0m\u001b[0;34m\u001b[0m\u001b[0m\n\u001b[0;32m--> 271\u001b[0;31m           \u001b[0;32mreturn\u001b[0m \u001b[0m_ElementFetchMapper\u001b[0m\u001b[0;34m(\u001b[0m\u001b[0mfetches\u001b[0m\u001b[0;34m,\u001b[0m \u001b[0mcontraction_fn\u001b[0m\u001b[0;34m)\u001b[0m\u001b[0;34m\u001b[0m\u001b[0;34m\u001b[0m\u001b[0m\n\u001b[0m\u001b[1;32m    272\u001b[0m     \u001b[0;31m# Did not find anything.\u001b[0m\u001b[0;34m\u001b[0m\u001b[0;34m\u001b[0m\u001b[0;34m\u001b[0m\u001b[0m\n\u001b[1;32m    273\u001b[0m     raise TypeError('Fetch argument %r has invalid type %r' % (fetch,\n",
      "\u001b[0;32m~/anaconda3/envs/tensorflow/lib/python3.6/site-packages/tensorflow/python/client/session.py\u001b[0m in \u001b[0;36m__init__\u001b[0;34m(self, fetches, contraction_fn)\u001b[0m\n\u001b[1;32m    302\u001b[0m         raise TypeError('Fetch argument %r has invalid type %r, '\n\u001b[1;32m    303\u001b[0m                         \u001b[0;34m'must be a string or Tensor. (%s)'\u001b[0m \u001b[0;34m%\u001b[0m\u001b[0;34m\u001b[0m\u001b[0;34m\u001b[0m\u001b[0m\n\u001b[0;32m--> 304\u001b[0;31m                         (fetch, type(fetch), str(e)))\n\u001b[0m\u001b[1;32m    305\u001b[0m       \u001b[0;32mexcept\u001b[0m \u001b[0mValueError\u001b[0m \u001b[0;32mas\u001b[0m \u001b[0me\u001b[0m\u001b[0;34m:\u001b[0m\u001b[0;34m\u001b[0m\u001b[0;34m\u001b[0m\u001b[0m\n\u001b[1;32m    306\u001b[0m         raise ValueError('Fetch argument %r cannot be interpreted as a '\n",
      "\u001b[0;31mTypeError\u001b[0m: Fetch argument 111882690.0 has invalid type <class 'numpy.float32'>, must be a string or Tensor. (Can not convert a float32 into a Tensor or Operation.)"
     ]
    }
   ],
   "source": [
    "epochs = 1000\n",
    "file_writer_path = \"./graphs/linear-regression\"\n",
    "\n",
    "with tf.Session() as sess:\n",
    "    sess.run(W.initializer)\n",
    "    sess.run(b.initializer)\n",
    "    train_writer = tf.summary.FileWriter(file_writer_path, tf.get_default_graph())\n",
    "    for i in range(epochs):\n",
    "        feed_dict = {\n",
    "            X: X_train,\n",
    "            y: y_train\n",
    "        }\n",
    "        _, loss = sess.run([optimizer, loss], feed_dict=feed_dict)\n",
    "        if i % 100 == 0:\n",
    "            print(\"epoch {}, loss: {}\".format(i, loss))\n",
    "    w_final, b_final = sess.run([W, b])"
   ]
  },
  {
   "cell_type": "markdown",
   "metadata": {
    "slideshow": {
     "slide_type": "subslide"
    }
   },
   "source": [
    "## 發生了什麼事情？\n",
    "\n",
    "```python\n",
    "for i in range(n_steps):\n",
    "    # ...\n",
    "    # 這邊的物件命名同樣為 loss，但型別已經不同，feed_dict 是張量，但 fetch 是 ndarray\n",
    "    _, loss = sess.run([optimizer, loss], feed_dict=feed_dict)\n",
    "    # ...\n",
    "```"
   ]
  },
  {
   "cell_type": "markdown",
   "metadata": {
    "slideshow": {
     "slide_type": "subslide"
    }
   },
   "source": [
    "## 修改物件命名之後再來試一次"
   ]
  },
  {
   "cell_type": "code",
   "execution_count": 12,
   "metadata": {},
   "outputs": [],
   "source": [
    "import tensorflow as tf\n",
    "\n",
    "X_train_shape = X_train.shape\n",
    "y_train_shape = y_train.shape\n",
    "W_shape = (X_train_shape[1], 1)\n",
    "b_shape = (1,)\n",
    "alpha = 0.001\n",
    "file_writer_path = \"./graphs/linear-regression\"\n",
    "\n",
    "# placeholders\n",
    "X = tf.placeholder(tf.float32, X_train_shape)\n",
    "y = tf.placeholder(tf.float32, y_train_shape)\n",
    "# variables\n",
    "W = tf.Variable(tf.random_normal(W_shape))\n",
    "b = tf.Variable(tf.random_normal(b_shape))\n",
    "# prediction\n",
    "y_pred = tf.add(tf.matmul(X, W), b)\n",
    "# loss\n",
    "loss = tf.reduce_sum(tf.pow(tf.subtract(y, y_pred), 2))\n",
    "# optimizer\n",
    "optimizer = tf.train.GradientDescentOptimizer(alpha).minimize(loss)"
   ]
  },
  {
   "cell_type": "code",
   "execution_count": 13,
   "metadata": {
    "slideshow": {
     "slide_type": "subslide"
    }
   },
   "outputs": [
    {
     "name": "stdout",
     "output_type": "stream",
     "text": [
      "epoch 0, loss: 34374416.0\n",
      "epoch 100, loss: nan\n",
      "epoch 200, loss: nan\n",
      "epoch 300, loss: nan\n",
      "epoch 400, loss: nan\n",
      "epoch 500, loss: nan\n",
      "epoch 600, loss: nan\n",
      "epoch 700, loss: nan\n",
      "epoch 800, loss: nan\n",
      "epoch 900, loss: nan\n"
     ]
    }
   ],
   "source": [
    "epochs = 1000\n",
    "file_writer_path = \"./graphs/linear-regression\"\n",
    "\n",
    "with tf.Session() as sess:\n",
    "    sess.run(W.initializer)\n",
    "    sess.run(b.initializer)\n",
    "    train_writer = tf.summary.FileWriter(file_writer_path, tf.get_default_graph())\n",
    "    for i in range(epochs):\n",
    "        feed_dict = {\n",
    "            X: X_train,\n",
    "            y: y_train\n",
    "        }\n",
    "        _, loss_ = sess.run([optimizer, loss], feed_dict=feed_dict)\n",
    "        if i % 100 == 0:\n",
    "            print(\"epoch {}, loss: {}\".format(i, loss_))\n",
    "    w_final, b_final = sess.run([W, b])"
   ]
  },
  {
   "cell_type": "markdown",
   "metadata": {
    "slideshow": {
     "slide_type": "subslide"
    }
   },
   "source": [
    "## 為什麼 loss 都是 nan？"
   ]
  },
  {
   "cell_type": "markdown",
   "metadata": {
    "slideshow": {
     "slide_type": "subslide"
    }
   },
   "source": [
    "## Learning Rate 太大的緣故\n",
    "\n",
    "![](img/0406.jpeg)\n",
    "\n",
    "Source: [Machine Learning | Coursera](https://www.coursera.org/learn/machine-learning)"
   ]
  },
  {
   "cell_type": "markdown",
   "metadata": {
    "slideshow": {
     "slide_type": "subslide"
    }
   },
   "source": [
    "## 降低 Learning Rate 之後再來試一次"
   ]
  },
  {
   "cell_type": "code",
   "execution_count": 14,
   "metadata": {
    "slideshow": {
     "slide_type": "-"
    }
   },
   "outputs": [],
   "source": [
    "import tensorflow as tf\n",
    "\n",
    "X_train_shape = X_train.shape\n",
    "y_train_shape = y_train.shape\n",
    "W_shape = (X_train_shape[1], 1)\n",
    "b_shape = (1,)\n",
    "alpha = 0.00000001\n",
    "file_writer_path = \"./graphs/linear-regression\"\n",
    "\n",
    "# placeholders\n",
    "X = tf.placeholder(tf.float32, X_train_shape)\n",
    "y = tf.placeholder(tf.float32, y_train_shape)\n",
    "# variables\n",
    "W = tf.Variable(tf.random_normal(W_shape))\n",
    "b = tf.Variable(tf.random_normal(b_shape))\n",
    "# prediction\n",
    "y_pred = tf.add(tf.matmul(X, W), b)\n",
    "# loss\n",
    "loss = tf.reduce_sum(tf.pow(tf.subtract(y, y_pred), 2))\n",
    "# optimizer\n",
    "optimizer = tf.train.GradientDescentOptimizer(alpha).minimize(loss)"
   ]
  },
  {
   "cell_type": "code",
   "execution_count": 15,
   "metadata": {
    "slideshow": {
     "slide_type": "subslide"
    }
   },
   "outputs": [
    {
     "name": "stdout",
     "output_type": "stream",
     "text": [
      "epoch 0, loss: 86089632.0\n",
      "epoch 100, loss: 24685726.0\n",
      "epoch 200, loss: 23067824.0\n",
      "epoch 300, loss: 21637766.0\n",
      "epoch 400, loss: 20373738.0\n",
      "epoch 500, loss: 19256460.0\n",
      "epoch 600, loss: 18268904.0\n",
      "epoch 700, loss: 17396008.0\n",
      "epoch 800, loss: 16624453.0\n",
      "epoch 900, loss: 15942473.0\n"
     ]
    }
   ],
   "source": [
    "epochs = 1000\n",
    "file_writer_path = \"./graphs/linear-regression\"\n",
    "\n",
    "with tf.Session() as sess:\n",
    "    sess.run(W.initializer)\n",
    "    sess.run(b.initializer)\n",
    "    train_writer = tf.summary.FileWriter(file_writer_path, tf.get_default_graph())\n",
    "    for i in range(epochs):\n",
    "        feed_dict = {\n",
    "            X: X_train,\n",
    "            y: y_train\n",
    "        }\n",
    "        _, loss_ = sess.run([optimizer, loss], feed_dict=feed_dict)\n",
    "        if i % 100 == 0:\n",
    "            print(\"epoch {}, loss: {}\".format(i, loss_))\n",
    "    w_final, b_final = sess.run([W, b])"
   ]
  },
  {
   "cell_type": "markdown",
   "metadata": {
    "slideshow": {
     "slide_type": "slide"
    }
   },
   "source": [
    "## 檢視 TensorBoard"
   ]
  },
  {
   "cell_type": "markdown",
   "metadata": {
    "slideshow": {
     "slide_type": "subslide"
    }
   },
   "source": [
    "## 回到 Terminal 啟動 TensorBoard\n",
    "\n",
    "```bash\n",
    "tensorboard --logdir=path/to/log-directory\n",
    "```"
   ]
  },
  {
   "cell_type": "markdown",
   "metadata": {
    "slideshow": {
     "slide_type": "subslide"
    }
   },
   "source": [
    "![](img/0407.png)"
   ]
  },
  {
   "cell_type": "markdown",
   "metadata": {
    "slideshow": {
     "slide_type": "slide"
    }
   },
   "source": [
    "## 加入 Name Scopes"
   ]
  },
  {
   "cell_type": "markdown",
   "metadata": {
    "slideshow": {
     "slide_type": "subslide"
    }
   },
   "source": [
    "## TensorFlow 不知道哪些節點應該歸類在一起\n",
    "\n",
    "利用 `with tf.name_scope(name_of_that_scope)` 將節點歸類起來，讓 Graph 更簡潔\n",
    "\n",
    "```python\n",
    "with tf.name_scope(name_of_that_scope):\n",
    "  # declare op_1\n",
    "  # declare op_2\n",
    "  # ...\n",
    "```"
   ]
  },
  {
   "cell_type": "code",
   "execution_count": 16,
   "metadata": {
    "slideshow": {
     "slide_type": "subslide"
    }
   },
   "outputs": [],
   "source": [
    "import tensorflow as tf\n",
    "\n",
    "X_train_shape = X_train.shape\n",
    "y_train_shape = y_train.shape\n",
    "W_shape = (X_train_shape[1], 1)\n",
    "b_shape = (1,)\n",
    "alpha = 0.00000001\n",
    "file_writer_path = \"./graphs/linear-regression\"\n",
    "\n",
    "# placeholders\n",
    "with tf.name_scope(\"placeholders\"):\n",
    "    X = tf.placeholder(tf.float32, X_train_shape)\n",
    "    y = tf.placeholder(tf.float32, y_train_shape)\n",
    "# variables\n",
    "with tf.name_scope(\"variables\"):\n",
    "    W = tf.Variable(tf.random_normal(W_shape))\n",
    "    b = tf.Variable(tf.random_normal(b_shape))\n",
    "# prediction\n",
    "with tf.name_scope(\"prediction\"):\n",
    "    y_pred = tf.add(tf.matmul(X, W), b)\n",
    "# loss\n",
    "with tf.name_scope(\"loss\"):\n",
    "    loss = tf.reduce_sum(tf.pow(tf.subtract(y, y_pred), 2))\n",
    "# optimizer\n",
    "with tf.name_scope(\"optimizer\"):\n",
    "    optimizer = tf.train.GradientDescentOptimizer(alpha).minimize(loss)"
   ]
  },
  {
   "cell_type": "code",
   "execution_count": 17,
   "metadata": {
    "slideshow": {
     "slide_type": "subslide"
    }
   },
   "outputs": [
    {
     "name": "stdout",
     "output_type": "stream",
     "text": [
      "epoch 0, loss: 29167918.0\n",
      "epoch 100, loss: 25331188.0\n",
      "epoch 200, loss: 23638348.0\n",
      "epoch 300, loss: 22142048.0\n",
      "epoch 400, loss: 20819474.0\n",
      "epoch 500, loss: 19650446.0\n",
      "epoch 600, loss: 18617148.0\n",
      "epoch 700, loss: 17703820.0\n",
      "epoch 800, loss: 16896524.0\n",
      "epoch 900, loss: 16182963.0\n"
     ]
    }
   ],
   "source": [
    "epochs = 1000\n",
    "file_writer_path = \"./graphs/linear-regression\"\n",
    "\n",
    "with tf.Session() as sess:\n",
    "    sess.run(W.initializer)\n",
    "    sess.run(b.initializer)\n",
    "    train_writer = tf.summary.FileWriter(file_writer_path, tf.get_default_graph())\n",
    "    for i in range(epochs):\n",
    "        feed_dict = {\n",
    "            X: X_train,\n",
    "            y: y_train\n",
    "        }\n",
    "        _, loss_ = sess.run([optimizer, loss], feed_dict=feed_dict)\n",
    "        if i % 100 == 0:\n",
    "            print(\"epoch {}, loss: {}\".format(i, loss_))\n",
    "    w_final, b_final = sess.run([W, b])"
   ]
  },
  {
   "cell_type": "markdown",
   "metadata": {
    "slideshow": {
     "slide_type": "subslide"
    }
   },
   "source": [
    "## Graph with name scopes\n",
    "\n",
    "![](img/0408.png)"
   ]
  },
  {
   "cell_type": "markdown",
   "metadata": {
    "slideshow": {
     "slide_type": "subslide"
    }
   },
   "source": [
    "## 調整訓練的次數與觀察 loss 是否漸趨收斂"
   ]
  },
  {
   "cell_type": "code",
   "execution_count": 18,
   "metadata": {
    "slideshow": {
     "slide_type": "subslide"
    }
   },
   "outputs": [
    {
     "name": "stdout",
     "output_type": "stream",
     "text": [
      "step 0, loss: 46752384.0\n",
      "step 500, loss: 17639456.0\n",
      "step 1000, loss: 14467258.0\n",
      "step 1500, loss: 12755778.0\n",
      "step 2000, loss: 11832389.0\n",
      "step 2500, loss: 11334192.0\n",
      "step 3000, loss: 11065409.0\n",
      "step 3500, loss: 10920393.0\n",
      "step 4000, loss: 10842154.0\n",
      "step 4500, loss: 10799942.0\n",
      "step 5000, loss: 10777167.0\n",
      "step 5500, loss: 10764880.0\n",
      "step 6000, loss: 10758249.0\n",
      "step 6500, loss: 10754673.0\n",
      "step 7000, loss: 10752742.0\n",
      "step 7500, loss: 10751702.0\n",
      "step 8000, loss: 10751142.0\n",
      "step 8500, loss: 10750837.0\n",
      "step 9000, loss: 10750672.0\n",
      "step 9500, loss: 10750586.0\n"
     ]
    }
   ],
   "source": [
    "epochs = 10000\n",
    "file_writer_path = \"./graphs/linear-regression\"\n",
    "loss_history = []\n",
    "\n",
    "with tf.Session() as sess:\n",
    "    sess.run(W.initializer)\n",
    "    sess.run(b.initializer)\n",
    "    train_writer = tf.summary.FileWriter(file_writer_path, tf.get_default_graph())\n",
    "    for i in range(epochs):\n",
    "        feed_dict = {\n",
    "            X: X_train,\n",
    "            y: y_train\n",
    "        }\n",
    "        _, loss_ = sess.run([optimizer, loss], feed_dict=feed_dict)\n",
    "        loss_history.append(loss_)\n",
    "        if i % 500 == 0:\n",
    "            print(\"step {}, loss: {}\".format(i, loss_))\n",
    "    w_final, b_final = sess.run([W, b])"
   ]
  },
  {
   "cell_type": "code",
   "execution_count": 19,
   "metadata": {
    "slideshow": {
     "slide_type": "subslide"
    }
   },
   "outputs": [
    {
     "data": {
      "text/plain": [
       "<Figure size 640x480 with 1 Axes>"
      ]
     },
     "metadata": {},
     "output_type": "display_data"
    }
   ],
   "source": [
    "import matplotlib.pyplot as plt\n",
    "\n",
    "plt.plot(range(epochs), loss_history)\n",
    "plt.title(\"Loss Summary\")\n",
    "plt.xlabel(\"Epochs\")\n",
    "plt.ylabel(\"Loss\")\n",
    "plt.show()"
   ]
  },
  {
   "cell_type": "code",
   "execution_count": 20,
   "metadata": {
    "slideshow": {
     "slide_type": "subslide"
    }
   },
   "outputs": [
    {
     "name": "stdout",
     "output_type": "stream",
     "text": [
      "0.0025418748\n",
      "22.719406\n",
      "10750538.0\n"
     ]
    }
   ],
   "source": [
    "mse = loss_history[-1]\n",
    "print(w_final[0, 0])\n",
    "print(b_final[0])\n",
    "print(mse)"
   ]
  },
  {
   "cell_type": "markdown",
   "metadata": {
    "slideshow": {
     "slide_type": "subslide"
    }
   },
   "source": [
    "## 加入 Batch 訓練"
   ]
  },
  {
   "cell_type": "code",
   "execution_count": 21,
   "metadata": {},
   "outputs": [
    {
     "name": "stdout",
     "output_type": "stream",
     "text": [
      "WARNING:tensorflow:From /Users/kuoyaojen/anaconda3/envs/tensorflow/lib/python3.6/site-packages/tensorflow/python/ops/math_ops.py:3066: to_int32 (from tensorflow.python.ops.math_ops) is deprecated and will be removed in a future version.\n",
      "Instructions for updating:\n",
      "Use tf.cast instead.\n"
     ]
    }
   ],
   "source": [
    "import tensorflow as tf\n",
    "\n",
    "X_train_shape = X_train.shape\n",
    "y_train_shape = y_train.shape\n",
    "W_shape = (X_train_shape[1], 1)\n",
    "b_shape = (1,)\n",
    "alpha = 0.00000001\n",
    "file_writer_path = \"./graphs/linear-regression\"\n",
    "\n",
    "# placeholders\n",
    "with tf.name_scope(\"placeholders\"):\n",
    "    X = tf.placeholder(tf.float32) # 不要指定外觀\n",
    "    y = tf.placeholder(tf.float32) # 不要指定外觀\n",
    "# variables\n",
    "with tf.name_scope(\"variables\"):\n",
    "    W = tf.Variable(tf.random_normal(W_shape))\n",
    "    b = tf.Variable(tf.random_normal(b_shape))\n",
    "# prediction\n",
    "with tf.name_scope(\"prediction\"):\n",
    "    y_pred = tf.add(tf.matmul(X, W), b)\n",
    "# loss\n",
    "with tf.name_scope(\"loss\"):\n",
    "    loss = tf.reduce_sum(tf.pow(tf.subtract(y, y_pred), 2))\n",
    "# optimizer\n",
    "with tf.name_scope(\"optimizer\"):\n",
    "    optimizer = tf.train.GradientDescentOptimizer(alpha).minimize(loss)"
   ]
  },
  {
   "cell_type": "code",
   "execution_count": 22,
   "metadata": {},
   "outputs": [
    {
     "name": "stdout",
     "output_type": "stream",
     "text": [
      "epoch 0, loss: 22322.10546875\n",
      "epoch 500, loss: 1936.48291015625\n",
      "epoch 1000, loss: 1824.188232421875\n",
      "epoch 1500, loss: 1721.90625\n",
      "epoch 2000, loss: 1628.781982421875\n",
      "epoch 2500, loss: 1544.02880859375\n",
      "epoch 3000, loss: 1466.93212890625\n",
      "epoch 3500, loss: 1396.821044921875\n",
      "epoch 4000, loss: 1333.09521484375\n",
      "epoch 4500, loss: 1275.19921875\n"
     ]
    }
   ],
   "source": [
    "epochs = 5000\n",
    "file_writer_path = \"./graphs/linear-regression\"\n",
    "loss_history = []\n",
    "batch_size = 50\n",
    "n_obs = X_train.shape[0]\n",
    "\n",
    "with tf.Session() as sess:\n",
    "    sess.run(W.initializer)\n",
    "    sess.run(b.initializer)\n",
    "    train_writer = tf.summary.FileWriter(file_writer_path, tf.get_default_graph())\n",
    "    for i in range(epochs):\n",
    "        pos = 0\n",
    "        while pos < n_obs:\n",
    "            batch_X = X_train[pos:(pos + batch_size)]\n",
    "            batch_y = y_train[pos:(pos + batch_size)]\n",
    "            feed_dict = {\n",
    "                X: batch_X,\n",
    "                y: batch_y\n",
    "            }\n",
    "            _, loss_ = sess.run([optimizer, loss], feed_dict=feed_dict)\n",
    "            pos += batch_size\n",
    "        loss_history.append(loss_)\n",
    "        if i % 500 == 0:\n",
    "            print(\"epoch {}, loss: {}\".format(i, loss_))\n",
    "    w_final, b_final = sess.run([W, b])"
   ]
  },
  {
   "cell_type": "markdown",
   "metadata": {
    "slideshow": {
     "slide_type": "subslide"
    }
   },
   "source": [
    "## 將 Loss 加入 TensorBoard 中的 Scalar 頁籤\n",
    "\n",
    "- 增加一個 summaries 的 name scope\n",
    "- 每一次的 epoch都要將 loss 記錄起來"
   ]
  },
  {
   "cell_type": "code",
   "execution_count": 23,
   "metadata": {
    "slideshow": {
     "slide_type": "subslide"
    }
   },
   "outputs": [],
   "source": [
    "import tensorflow as tf\n",
    "\n",
    "X_train_shape = X_train.shape\n",
    "y_train_shape = y_train.shape\n",
    "W_shape = (X_train_shape[1], 1)\n",
    "b_shape = (1,)\n",
    "alpha = 0.00000001\n",
    "file_writer_path = \"./graphs/linear-regression\"\n",
    "\n",
    "# placeholders\n",
    "with tf.name_scope(\"placeholders\"):\n",
    "    X = tf.placeholder(tf.float32, X_train_shape)\n",
    "    y = tf.placeholder(tf.float32, y_train_shape)\n",
    "# variables\n",
    "with tf.name_scope(\"variables\"):\n",
    "    W = tf.Variable(tf.random_normal(W_shape))\n",
    "    b = tf.Variable(tf.random_normal(b_shape))\n",
    "# prediction\n",
    "with tf.name_scope(\"prediction\"):\n",
    "    y_pred = tf.matmul(X, W) + b\n",
    "# loss\n",
    "with tf.name_scope(\"loss\"):\n",
    "    loss = tf.reduce_sum(tf.pow(tf.subtract(y, y_pred), 2))\n",
    "# optimizer\n",
    "with tf.name_scope(\"optimizer\"):\n",
    "    optimizer = tf.train.GradientDescentOptimizer(alpha).minimize(loss)\n",
    "# summaries\n",
    "with tf.name_scope(\"summary\"):\n",
    "    tf.summary.scalar(\"loss\", loss)\n",
    "    merged = tf.summary.merge_all()"
   ]
  },
  {
   "cell_type": "code",
   "execution_count": 24,
   "metadata": {
    "slideshow": {
     "slide_type": "subslide"
    }
   },
   "outputs": [
    {
     "name": "stdout",
     "output_type": "stream",
     "text": [
      "epoch 0, loss: 29187020.0\n",
      "epoch 500, loss: 19634076.0\n",
      "epoch 1000, loss: 15543408.0\n",
      "epoch 1500, loss: 13336389.0\n",
      "epoch 2000, loss: 12145644.0\n",
      "epoch 2500, loss: 11503200.0\n",
      "epoch 3000, loss: 11156594.0\n",
      "epoch 3500, loss: 10969591.0\n",
      "epoch 4000, loss: 10868699.0\n",
      "epoch 4500, loss: 10814261.0\n",
      "epoch 5000, loss: 10784892.0\n",
      "epoch 5500, loss: 10769048.0\n",
      "epoch 6000, loss: 10760500.0\n",
      "epoch 6500, loss: 10755886.0\n",
      "epoch 7000, loss: 10753398.0\n",
      "epoch 7500, loss: 10752055.0\n",
      "epoch 8000, loss: 10751330.0\n",
      "epoch 8500, loss: 10750940.0\n",
      "epoch 9000, loss: 10750729.0\n",
      "epoch 9500, loss: 10750615.0\n"
     ]
    }
   ],
   "source": [
    "epochs = 10000\n",
    "file_writer_path = \"./graphs/linear-regression\"\n",
    "loss_history = []\n",
    "train_writer = tf.summary.FileWriter(file_writer_path, tf.get_default_graph())\n",
    "\n",
    "with tf.Session() as sess:\n",
    "    sess.run(W.initializer)\n",
    "    sess.run(b.initializer)  \n",
    "    for i in range(epochs):\n",
    "        feed_dict = {\n",
    "            X: X_train,\n",
    "            y: y_train\n",
    "        }\n",
    "        _, loss_, summary = sess.run([optimizer, loss, merged], feed_dict=feed_dict)\n",
    "        train_writer.add_summary(summary, i)\n",
    "        if i % 500 == 0:\n",
    "            print(\"epoch {}, loss: {}\".format(i, loss_))\n",
    "    w_final, b_final = sess.run([W, b])"
   ]
  },
  {
   "cell_type": "markdown",
   "metadata": {
    "slideshow": {
     "slide_type": "subslide"
    }
   },
   "source": [
    "![](img/0409.png)"
   ]
  },
  {
   "cell_type": "markdown",
   "metadata": {
    "slideshow": {
     "slide_type": "subslide"
    }
   },
   "source": [
    "## 如果 Loss Function 沒有收斂怎麼辦？\n",
    "\n",
    "- 增加 Steps\n",
    "- 增加 Learning rate\n",
    "- 更換 Optimizer"
   ]
  },
  {
   "cell_type": "markdown",
   "metadata": {
    "slideshow": {
     "slide_type": "subslide"
    }
   },
   "source": [
    "## 如果重新訓練的時候產生了錯誤呢？\n",
    "\n",
    "- Restart Kernel 清空 Graph\n",
    "- 或者在訓練之前執行：\n",
    "\n",
    "```python\n",
    "tf.reset_default_graph()\n",
    "```"
   ]
  },
  {
   "cell_type": "markdown",
   "metadata": {
    "slideshow": {
     "slide_type": "slide"
    }
   },
   "source": [
    "## 隨堂練習"
   ]
  },
  {
   "cell_type": "markdown",
   "metadata": {
    "slideshow": {
     "slide_type": "subslide"
    }
   },
   "source": [
    "## 以 Boston 建立一個複迴歸模型：MEDV ~ RM + AGE + LSTAT"
   ]
  },
  {
   "cell_type": "code",
   "execution_count": 25,
   "metadata": {},
   "outputs": [
    {
     "name": "stdout",
     "output_type": "stream",
     "text": [
      "(506, 3)\n",
      "(506,)\n"
     ]
    }
   ],
   "source": [
    "X_arr = boston.data[:, [4, 5, -1]]\n",
    "y_arr = boston.target\n",
    "print(X_arr.shape)\n",
    "print(y_arr.shape)"
   ]
  },
  {
   "cell_type": "code",
   "execution_count": 26,
   "metadata": {
    "slideshow": {
     "slide_type": "subslide"
    }
   },
   "outputs": [
    {
     "name": "stdout",
     "output_type": "stream",
     "text": [
      "(354, 3)\n",
      "(152, 3)\n",
      "(354,)\n",
      "(152,)\n"
     ]
    }
   ],
   "source": [
    "from sklearn.model_selection import train_test_split\n",
    "\n",
    "X_train, X_test, y_train, y_test = train_test_split(X_arr, y_arr, test_size=0.3, random_state=123)\n",
    "print(X_train.shape)\n",
    "print(X_test.shape)\n",
    "print(y_train.shape)\n",
    "print(y_test.shape)"
   ]
  },
  {
   "cell_type": "code",
   "execution_count": 27,
   "metadata": {
    "slideshow": {
     "slide_type": "skip"
    }
   },
   "outputs": [],
   "source": [
    "import tensorflow as tf\n",
    "\n",
    "X_train_shape = X_train.shape\n",
    "y_train_shape = y_train.shape\n",
    "W_shape = (X_train_shape[1], 1)\n",
    "b_shape = (1,)\n",
    "alpha = 0.00000001\n",
    "file_writer_path = \"./graphs/linear-regression\"\n",
    "\n",
    "# placeholders\n",
    "with tf.name_scope(\"placeholders\"):\n",
    "    X = tf.placeholder(tf.float32, X_train_shape)\n",
    "    y = tf.placeholder(tf.float32, y_train_shape)\n",
    "# variables\n",
    "with tf.name_scope(\"variables\"):\n",
    "    W = tf.Variable(tf.random_normal(W_shape))\n",
    "    b = tf.Variable(tf.random_normal(b_shape))\n",
    "# prediction\n",
    "with tf.name_scope(\"prediction\"):\n",
    "    y_pred = tf.add(tf.matmul(X, W), b)\n",
    "# loss\n",
    "with tf.name_scope(\"loss\"):\n",
    "    loss = tf.reduce_sum(tf.pow(tf.subtract(y, y_pred), 2))\n",
    "# optimizer\n",
    "with tf.name_scope(\"optimizer\"):\n",
    "    optimizer = tf.train.GradientDescentOptimizer(alpha).minimize(loss)"
   ]
  },
  {
   "cell_type": "code",
   "execution_count": 28,
   "metadata": {
    "slideshow": {
     "slide_type": "skip"
    }
   },
   "outputs": [
    {
     "name": "stdout",
     "output_type": "stream",
     "text": [
      "epoch 0, loss: 110289008.0\n",
      "epoch 100, loss: 11151406.0\n",
      "epoch 200, loss: 11140889.0\n",
      "epoch 300, loss: 11139606.0\n",
      "epoch 400, loss: 11138359.0\n",
      "epoch 500, loss: 11137118.0\n",
      "epoch 600, loss: 11135880.0\n",
      "epoch 700, loss: 11134644.0\n",
      "epoch 800, loss: 11133415.0\n",
      "epoch 900, loss: 11132190.0\n"
     ]
    }
   ],
   "source": [
    "epochs = 1000\n",
    "file_writer_path = \"./graphs/linear-regression\"\n",
    "loss_history = []\n",
    "\n",
    "with tf.Session() as sess:\n",
    "    sess.run(W.initializer)\n",
    "    sess.run(b.initializer)\n",
    "    train_writer = tf.summary.FileWriter(file_writer_path, tf.get_default_graph())\n",
    "    for i in range(epochs):\n",
    "        feed_dict = {\n",
    "            X: X_train,\n",
    "            y: y_train\n",
    "        }\n",
    "        _, loss_ = sess.run([optimizer, loss], feed_dict=feed_dict)\n",
    "        loss_history.append(loss_)\n",
    "        if i % 100 == 0:\n",
    "            print(\"epoch {}, loss: {}\".format(i, loss_))\n",
    "    w_final, b_final = sess.run([W, b])"
   ]
  },
  {
   "cell_type": "code",
   "execution_count": 29,
   "metadata": {
    "slideshow": {
     "slide_type": "subslide"
    }
   },
   "outputs": [
    {
     "data": {
      "image/png": "[encoded data removed]",
      "text/plain": [
       "<Figure size 432x288 with 1 Axes>"
      ]
     },
     "metadata": {
      "needs_background": "light"
     },
     "output_type": "display_data"
    }
   ],
   "source": [
    "import matplotlib.pyplot as plt\n",
    "\n",
    "plt.plot(range(epochs), loss_history)\n",
    "plt.title(\"Loss Summary\")\n",
    "plt.xlabel(\"Epochs\")\n",
    "plt.ylabel(\"Loss\")\n",
    "plt.show()"
   ]
  },
  {
   "cell_type": "code",
   "execution_count": 30,
   "metadata": {
    "slideshow": {
     "slide_type": "skip"
    }
   },
   "outputs": [],
   "source": [
    "mse = loss_history[-1]"
   ]
  },
  {
   "cell_type": "code",
   "execution_count": 31,
   "metadata": {
    "slideshow": {
     "slide_type": "subslide"
    }
   },
   "outputs": [
    {
     "name": "stdout",
     "output_type": "stream",
     "text": [
      "[[0.6226004 ]\n",
      " [3.0774918 ]\n",
      " [0.21202205]]\n",
      "[0.18505369]\n",
      "11130982.0\n"
     ]
    }
   ],
   "source": [
    "print(w_final)\n",
    "print(b_final)\n",
    "print(mse)"
   ]
  },
  {
   "cell_type": "markdown",
   "metadata": {
    "slideshow": {
     "slide_type": "subslide"
    }
   },
   "source": [
    "## 以 Kaggle House Prices 建立一個複迴歸模型：SalePrice ~ OverallQual + GrLivArea"
   ]
  },
  {
   "cell_type": "code",
   "execution_count": 32,
   "metadata": {},
   "outputs": [
    {
     "name": "stdout",
     "output_type": "stream",
     "text": [
      "Downloading sample_submission.csv to /Users/kuoyaojen/intro-to-tensorflow\n",
      "  0%|                                               | 0.00/31.2k [00:00<?, ?B/s]\n",
      "100%|██████████████████████████████████████| 31.2k/31.2k [00:00<00:00, 1.45MB/s]\n",
      "Downloading test.csv to /Users/kuoyaojen/intro-to-tensorflow\n",
      "100%|████████████████████████████████████████| 441k/441k [00:00<00:00, 1.14MB/s]\n",
      "\n",
      "Downloading train.csv to /Users/kuoyaojen/intro-to-tensorflow\n",
      "100%|████████████████████████████████████████| 450k/450k [00:00<00:00, 1.50MB/s]\n",
      "\n",
      "Downloading data_description.txt to /Users/kuoyaojen/intro-to-tensorflow\n",
      "  0%|                                               | 0.00/13.1k [00:00<?, ?B/s]\n",
      "100%|██████████████████████████████████████| 13.1k/13.1k [00:00<00:00, 5.46MB/s]\n"
     ]
    }
   ],
   "source": [
    "!kaggle competitions download -c house-prices-advanced-regression-techniques --force"
   ]
  },
  {
   "cell_type": "code",
   "execution_count": 33,
   "metadata": {
    "slideshow": {
     "slide_type": "skip"
    }
   },
   "outputs": [],
   "source": [
    "import pandas as pd\n",
    "from sklearn.preprocessing import StandardScaler\n",
    "\n",
    "train = pd.read_csv(\"train.csv\")\n",
    "X_arr = train.loc[:, [\"OverallQual\", \"GrLivArea\"]].values\n",
    "y_arr = train[\"SalePrice\"].values.reshape(-1, 1)\n",
    "scalerX = StandardScaler().fit(X_arr)\n",
    "scalery = StandardScaler().fit(y_arr)\n",
    "X_arr_scaled = scalerX.transform(X_arr)\n",
    "y_arr_scaled = scalery.transform(y_arr)"
   ]
  },
  {
   "cell_type": "code",
   "execution_count": 34,
   "metadata": {
    "slideshow": {
     "slide_type": "skip"
    }
   },
   "outputs": [
    {
     "name": "stdout",
     "output_type": "stream",
     "text": [
      "(1022, 2)\n",
      "(438, 2)\n",
      "(1022, 1)\n",
      "(438, 1)\n"
     ]
    }
   ],
   "source": [
    "from sklearn.model_selection import train_test_split\n",
    "\n",
    "X_train, X_test, y_train, y_test = train_test_split(X_arr_scaled, y_arr_scaled, test_size=0.3, random_state=123)\n",
    "print(X_train.shape)\n",
    "print(X_test.shape)\n",
    "print(y_train.shape)\n",
    "print(y_test.shape)"
   ]
  },
  {
   "cell_type": "code",
   "execution_count": 35,
   "metadata": {
    "slideshow": {
     "slide_type": "skip"
    }
   },
   "outputs": [],
   "source": [
    "import tensorflow as tf\n",
    "\n",
    "X_train_shape = X_train.shape\n",
    "y_train_shape = y_train.shape\n",
    "W_shape = (X_train_shape[1], 1)\n",
    "b_shape = (1,)\n",
    "alpha = 0.00001\n",
    "file_writer_path = \"./graphs/linear-regression\"\n",
    "\n",
    "# placeholders\n",
    "with tf.name_scope(\"placeholders\"):\n",
    "    X = tf.placeholder(tf.float32) # 不指定外觀\n",
    "    y = tf.placeholder(tf.float32) # 不指定外觀\n",
    "# variables\n",
    "with tf.name_scope(\"variables\"):\n",
    "    W = tf.Variable(tf.random_normal(W_shape))\n",
    "    b = tf.Variable(tf.random_normal(b_shape))\n",
    "# prediction\n",
    "with tf.name_scope(\"prediction\"):\n",
    "    y_pred = tf.add(tf.matmul(X, W), b)\n",
    "# loss\n",
    "with tf.name_scope(\"loss\"):\n",
    "    loss = tf.reduce_sum(tf.pow(tf.subtract(y, y_pred), 2))\n",
    "# optimizer\n",
    "with tf.name_scope(\"optimizer\"):\n",
    "    optimizer = tf.train.GradientDescentOptimizer(alpha).minimize(loss)"
   ]
  },
  {
   "cell_type": "code",
   "execution_count": 36,
   "metadata": {
    "slideshow": {
     "slide_type": "skip"
    }
   },
   "outputs": [
    {
     "name": "stdout",
     "output_type": "stream",
     "text": [
      "epoch 0, loss: 76.32481384277344\n",
      "epoch 100, loss: 5.032845497131348\n",
      "epoch 200, loss: 2.500154495239258\n",
      "epoch 300, loss: 1.9693489074707031\n",
      "epoch 400, loss: 1.8021502494812012\n",
      "epoch 500, loss: 1.741830825805664\n",
      "epoch 600, loss: 1.7185707092285156\n",
      "epoch 700, loss: 1.7093147039413452\n",
      "epoch 800, loss: 1.705579400062561\n",
      "epoch 900, loss: 1.7040627002716064\n"
     ]
    }
   ],
   "source": [
    "epochs = 1000\n",
    "file_writer_path = \"./graphs/linear-regression\"\n",
    "loss_history = []\n",
    "n_obs = X_train.shape[0]\n",
    "batch_size = 50\n",
    "\n",
    "with tf.Session() as sess:\n",
    "    sess.run(W.initializer)\n",
    "    sess.run(b.initializer)\n",
    "    train_writer = tf.summary.FileWriter(file_writer_path, tf.get_default_graph())\n",
    "    for i in range(epochs):\n",
    "        pos = 0\n",
    "        while pos < n_obs:\n",
    "            batch_X = X_train[pos:(pos + batch_size)]\n",
    "            batch_y = y_train[pos:(pos + batch_size)]\n",
    "            feed_dict = {\n",
    "                X: batch_X,\n",
    "                y: batch_y\n",
    "            }\n",
    "            _, loss_ = sess.run([optimizer, loss], feed_dict=feed_dict)\n",
    "            pos += batch_size\n",
    "        loss_history.append(loss_)\n",
    "        if i % 100 == 0:\n",
    "            print(\"epoch {}, loss: {}\".format(i, loss_))\n",
    "    w_final, b_final = sess.run([W, b])"
   ]
  },
  {
   "cell_type": "code",
   "execution_count": 37,
   "metadata": {
    "slideshow": {
     "slide_type": "subslide"
    }
   },
   "outputs": [
    {
     "data": {
      "image/png": "[encoded data removed]",
      "text/plain": [
       "<Figure size 432x288 with 1 Axes>"
      ]
     },
     "metadata": {
      "needs_background": "light"
     },
     "output_type": "display_data"
    }
   ],
   "source": [
    "import matplotlib.pyplot as plt\n",
    "\n",
    "plt.plot(range(epochs), loss_history)\n",
    "plt.title(\"Loss Summary\")\n",
    "plt.xlabel(\"Epochs\")\n",
    "plt.ylabel(\"Loss\")\n",
    "plt.show()"
   ]
  },
  {
   "cell_type": "code",
   "execution_count": 38,
   "metadata": {
    "slideshow": {
     "slide_type": "subslide"
    }
   },
   "outputs": [
    {
     "name": "stdout",
     "output_type": "stream",
     "text": [
      "1532445963.4320564\n"
     ]
    }
   ],
   "source": [
    "import numpy as np\n",
    "from sklearn.metrics import mean_squared_error\n",
    "from sklearn.model_selection import train_test_split\n",
    "\n",
    "y_pred_before_inverse = X_test.dot(w_final) + b_final[0]\n",
    "y_pred = scalery.inverse_transform(y_pred_before_inverse)\n",
    "X_train, X_test, y_train, y_test = train_test_split(X_arr, y_arr, test_size=0.3, random_state=123)\n",
    "mse = mean_squared_error(y_test, y_pred)\n",
    "print(mse)"
   ]
  }
 ],
 "metadata": {
  "celltoolbar": "Slideshow",
  "kernelspec": {
   "display_name": "TensorFlow",
   "language": "python",
   "name": "tensorflow"
  },
  "language_info": {
   "codemirror_mode": {
    "name": "ipython",
    "version": 3
   },
   "file_extension": ".py",
   "mimetype": "text/x-python",
   "name": "python",
   "nbconvert_exporter": "python",
   "pygments_lexer": "ipython3",
   "version": "3.6.8"
  }
 },
 "nbformat": 4,
 "nbformat_minor": 2
}
