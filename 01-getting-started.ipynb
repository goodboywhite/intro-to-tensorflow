{
 "cells": [
  {
   "cell_type": "markdown",
   "metadata": {
    "slideshow": {
     "slide_type": "slide"
    }
   },
   "source": [
    "# Introduction to TensorFlow\n",
    "\n",
    "> Getting Started\n",
    "\n",
    "郭耀仁"
   ]
  },
  {
   "cell_type": "markdown",
   "metadata": {
    "slideshow": {
     "slide_type": "subslide"
    }
   },
   "source": [
    "## 大綱\n",
    "\n",
    "- 張量\n",
    "- 運算\n",
    "- TensorBoard\n",
    "- 隨堂練習"
   ]
  },
  {
   "cell_type": "markdown",
   "metadata": {
    "slideshow": {
     "slide_type": "slide"
    }
   },
   "source": [
    "## 張量（tensor）\n",
    "\n",
    "- 純量（scalar）：零維張量\n",
    "- 向量（vector）：一維張量\n",
    "- 矩陣（matrix）：二維張量\n",
    "- 張量（tensor）：n 維張量，n >= 3"
   ]
  },
  {
   "cell_type": "code",
   "execution_count": 1,
   "metadata": {
    "slideshow": {
     "slide_type": "subslide"
    }
   },
   "outputs": [
    {
     "name": "stdout",
     "output_type": "stream",
     "text": [
      "Tensor(\"Const:0\", shape=(), dtype=int32)\n",
      "Tensor(\"Const_1:0\", shape=(2,), dtype=int32)\n",
      "Tensor(\"Const_2:0\", shape=(2, 2), dtype=int32)\n",
      "Tensor(\"Const_3:0\", shape=(2, 3, 4), dtype=int64)\n"
     ]
    }
   ],
   "source": [
    "import numpy as np\n",
    "import tensorflow as tf\n",
    "\n",
    "tf_scalar = tf.constant(87)\n",
    "tf_vector = tf.constant([8, 7])\n",
    "tf_matrix = tf.constant([\n",
    "    [8, 7],\n",
    "    [7, 8]\n",
    "])\n",
    "arr = np.arange(24).reshape(2, 3, 4)\n",
    "tf_tensor = tf.constant(arr)\n",
    "\n",
    "print(tf_scalar)\n",
    "print(tf_vector)\n",
    "print(tf_matrix)\n",
    "print(tf_tensor)"
   ]
  },
  {
   "cell_type": "markdown",
   "metadata": {
    "slideshow": {
     "slide_type": "subslide"
    }
   },
   "source": [
    "## 為什麼看不到這些張量的內容？\n",
    "\n",
    "必須建立一個 `tf.Session()` 並且讓這些張量在其中執行才可以"
   ]
  },
  {
   "cell_type": "code",
   "execution_count": 2,
   "metadata": {},
   "outputs": [
    {
     "name": "stdout",
     "output_type": "stream",
     "text": [
      "87\n",
      "[8 7]\n",
      "[[8 7]\n",
      " [7 8]]\n",
      "[[[ 0  1  2  3]\n",
      "  [ 4  5  6  7]\n",
      "  [ 8  9 10 11]]\n",
      "\n",
      " [[12 13 14 15]\n",
      "  [16 17 18 19]\n",
      "  [20 21 22 23]]]\n"
     ]
    }
   ],
   "source": [
    "with tf.Session() as sess:\n",
    "    print(sess.run(tf_scalar))\n",
    "    print(sess.run(tf_vector))\n",
    "    print(sess.run(tf_matrix))\n",
    "    print(sess.run(tf_tensor))"
   ]
  },
  {
   "cell_type": "markdown",
   "metadata": {
    "slideshow": {
     "slide_type": "slide"
    }
   },
   "source": [
    "## 基礎運算"
   ]
  },
  {
   "cell_type": "markdown",
   "metadata": {
    "slideshow": {
     "slide_type": "subslide"
    }
   },
   "source": [
    "## 加法"
   ]
  },
  {
   "cell_type": "code",
   "execution_count": 3,
   "metadata": {},
   "outputs": [
    {
     "name": "stdout",
     "output_type": "stream",
     "text": [
      "Tensor(\"x:0\", shape=(), dtype=int32)\n",
      "Tensor(\"y:0\", shape=(), dtype=int32)\n",
      "Tensor(\"Add:0\", shape=(), dtype=int32)\n"
     ]
    }
   ],
   "source": [
    "x = tf.constant(8, name=\"x\")\n",
    "y = tf.constant(7, name=\"y\")\n",
    "print(x)\n",
    "print(y)\n",
    "tf_add = tf.add(x, y)\n",
    "print(tf_add)"
   ]
  },
  {
   "cell_type": "code",
   "execution_count": 4,
   "metadata": {
    "slideshow": {
     "slide_type": "subslide"
    }
   },
   "outputs": [
    {
     "name": "stdout",
     "output_type": "stream",
     "text": [
      "15\n"
     ]
    }
   ],
   "source": [
    "# 建立一個 Session 獲得解答\n",
    "with tf.Session() as sess:\n",
    "    ans = sess.run(tf_add)\n",
    "    print(ans)"
   ]
  },
  {
   "cell_type": "markdown",
   "metadata": {
    "slideshow": {
     "slide_type": "-"
    }
   },
   "source": [
    "![](img/0101.png)"
   ]
  },
  {
   "cell_type": "markdown",
   "metadata": {
    "slideshow": {
     "slide_type": "subslide"
    }
   },
   "source": [
    "## 乘法"
   ]
  },
  {
   "cell_type": "code",
   "execution_count": 5,
   "metadata": {
    "slideshow": {
     "slide_type": "subslide"
    }
   },
   "outputs": [
    {
     "name": "stdout",
     "output_type": "stream",
     "text": [
      "56\n"
     ]
    }
   ],
   "source": [
    "tf_multiply = tf.multiply(x, y)\n",
    "with tf.Session() as sess:\n",
    "    ans = sess.run(tf_multiply)\n",
    "    print(ans)"
   ]
  },
  {
   "cell_type": "markdown",
   "metadata": {
    "slideshow": {
     "slide_type": "-"
    }
   },
   "source": [
    "![](img/0102.png)"
   ]
  },
  {
   "cell_type": "markdown",
   "metadata": {
    "slideshow": {
     "slide_type": "subslide"
    }
   },
   "source": [
    "## 減法"
   ]
  },
  {
   "cell_type": "code",
   "execution_count": 6,
   "metadata": {
    "slideshow": {
     "slide_type": "subslide"
    }
   },
   "outputs": [
    {
     "name": "stdout",
     "output_type": "stream",
     "text": [
      "1\n"
     ]
    }
   ],
   "source": [
    "tf_subtract = tf.subtract(x, y)\n",
    "with tf.Session() as sess:\n",
    "    ans = sess.run(tf_subtract)\n",
    "    print(ans)"
   ]
  },
  {
   "cell_type": "markdown",
   "metadata": {
    "slideshow": {
     "slide_type": "-"
    }
   },
   "source": [
    "![](img/0103.png)"
   ]
  },
  {
   "cell_type": "markdown",
   "metadata": {
    "slideshow": {
     "slide_type": "subslide"
    }
   },
   "source": [
    "## 除法"
   ]
  },
  {
   "cell_type": "code",
   "execution_count": 7,
   "metadata": {
    "slideshow": {
     "slide_type": "subslide"
    }
   },
   "outputs": [
    {
     "name": "stdout",
     "output_type": "stream",
     "text": [
      "1.1428571428571428\n"
     ]
    }
   ],
   "source": [
    "# 用 with 建立 Session\n",
    "tf_div = tf.math.divide(x, y)\n",
    "with tf.Session() as sess:\n",
    "    ans = sess.run(tf_div)\n",
    "    print(ans)"
   ]
  },
  {
   "cell_type": "markdown",
   "metadata": {},
   "source": [
    "![](img/0104.png)"
   ]
  },
  {
   "cell_type": "markdown",
   "metadata": {
    "slideshow": {
     "slide_type": "subslide"
    }
   },
   "source": [
    "## TensorFlow 的運算方法不是唯一解，簡單點可以使用 Python 3 的運算符號"
   ]
  },
  {
   "cell_type": "code",
   "execution_count": 8,
   "metadata": {
    "slideshow": {
     "slide_type": "subslide"
    }
   },
   "outputs": [
    {
     "name": "stdout",
     "output_type": "stream",
     "text": [
      "17\n",
      "66\n",
      "5\n",
      "1.8333333333333333\n",
      "121\n",
      "5\n",
      "1\n"
     ]
    }
   ],
   "source": [
    "x = tf.constant(11, name=\"x\")\n",
    "y = tf.constant(6, name=\"y\")\n",
    "\n",
    "tf_add = x + y\n",
    "tf_multiply = x * y\n",
    "tf_subtract = x - y\n",
    "tf_div = x / y\n",
    "tf_pow = x**2\n",
    "tf_mod = x % y\n",
    "tf_ans = x // y\n",
    "tf_ops = [tf_add, tf_multiply, tf_subtract, tf_div, tf_pow, tf_mod, tf_ans]\n",
    "\n",
    "with tf.Session() as sess:\n",
    "    for tf_op in tf_ops:\n",
    "        ans = sess.run(tf_op)\n",
    "        print(ans)"
   ]
  },
  {
   "cell_type": "markdown",
   "metadata": {
    "slideshow": {
     "slide_type": "subslide"
    }
   },
   "source": [
    "## `tf.reduce_sum()`"
   ]
  },
  {
   "cell_type": "code",
   "execution_count": 3,
   "metadata": {},
   "outputs": [
    {
     "name": "stdout",
     "output_type": "stream",
     "text": [
      "[[[ 0  1  2  3]\n",
      "  [ 4  5  6  7]\n",
      "  [ 8  9 10 11]]\n",
      "\n",
      " [[12 13 14 15]\n",
      "  [16 17 18 19]\n",
      "  [20 21 22 23]]]\n"
     ]
    }
   ],
   "source": [
    "import numpy as np\n",
    "import tensorflow as tf\n",
    "\n",
    "arr = np.arange(24).reshape(2, 3, 4)\n",
    "tf_tensor = tf.constant(arr)\n",
    "\n",
    "with tf.Session() as sess:\n",
    "    print(sess.run(tf_tensor))"
   ]
  },
  {
   "cell_type": "code",
   "execution_count": 4,
   "metadata": {
    "slideshow": {
     "slide_type": "subslide"
    }
   },
   "outputs": [
    {
     "name": "stdout",
     "output_type": "stream",
     "text": [
      "276\n"
     ]
    }
   ],
   "source": [
    "reduced_sum_tensor = tf.reduce_sum(tf_tensor)\n",
    "\n",
    "with tf.Session() as sess:\n",
    "    ans = sess.run(reduced_sum_tensor)\n",
    "    print(ans)"
   ]
  },
  {
   "cell_type": "code",
   "execution_count": 5,
   "metadata": {
    "slideshow": {
     "slide_type": "subslide"
    }
   },
   "outputs": [
    {
     "name": "stdout",
     "output_type": "stream",
     "text": [
      "[[12 14 16 18]\n",
      " [20 22 24 26]\n",
      " [28 30 32 34]]\n"
     ]
    }
   ],
   "source": [
    "reduced_sum_tensor = tf.reduce_sum(tf_tensor, 0)\n",
    "\n",
    "with tf.Session() as sess:\n",
    "    ans = sess.run(reduced_sum_tensor)\n",
    "    print(ans)"
   ]
  },
  {
   "cell_type": "code",
   "execution_count": 6,
   "metadata": {
    "slideshow": {
     "slide_type": "subslide"
    }
   },
   "outputs": [
    {
     "name": "stdout",
     "output_type": "stream",
     "text": [
      "[[12 15 18 21]\n",
      " [48 51 54 57]]\n"
     ]
    }
   ],
   "source": [
    "reduced_sum_tensor = tf.reduce_sum(tf_tensor, 1)\n",
    "\n",
    "with tf.Session() as sess:\n",
    "    ans = sess.run(reduced_sum_tensor)\n",
    "    print(ans)"
   ]
  },
  {
   "cell_type": "code",
   "execution_count": 7,
   "metadata": {
    "slideshow": {
     "slide_type": "subslide"
    }
   },
   "outputs": [
    {
     "name": "stdout",
     "output_type": "stream",
     "text": [
      "[[ 6 22 38]\n",
      " [54 70 86]]\n"
     ]
    }
   ],
   "source": [
    "reduced_sum_tensor = tf.reduce_sum(tf_tensor, 2)\n",
    "\n",
    "with tf.Session() as sess:\n",
    "    ans = sess.run(reduced_sum_tensor)\n",
    "    print(ans)"
   ]
  },
  {
   "cell_type": "markdown",
   "metadata": {
    "slideshow": {
     "slide_type": "subslide"
    }
   },
   "source": [
    "## Session 是 TensorFlow 的重要觀念\n",
    "\n",
    "- 運算必須在 Session 中執行\n",
    "- Session 接受三種類型：\n",
    "    - Constant(We've used so far)\n",
    "    - Placeholder(TBD)\n",
    "    - Variable(TBD)"
   ]
  },
  {
   "cell_type": "markdown",
   "metadata": {
    "slideshow": {
     "slide_type": "subslide"
    }
   },
   "source": [
    "## 更具象化的 Session\n",
    "\n",
    "![](img/0106.png)"
   ]
  },
  {
   "cell_type": "markdown",
   "metadata": {
    "slideshow": {
     "slide_type": "subslide"
    }
   },
   "source": [
    "## 如果您很不喜歡 session \n",
    "\n",
    "Well...you are not alone.\n",
    "\n",
    "> TensorFlow 2.0 Alpha is available.\n",
    ">\n",
    "> Eager execution by default."
   ]
  },
  {
   "cell_type": "markdown",
   "metadata": {
    "slideshow": {
     "slide_type": "subslide"
    }
   },
   "source": [
    "## Eager execution 是什麼？\n",
    "\n",
    "- 直接返回具體值\n",
    "- 無需建構 graph 稍後執行"
   ]
  },
  {
   "cell_type": "markdown",
   "metadata": {
    "slideshow": {
     "slide_type": "subslide"
    }
   },
   "source": [
    "## 該如何使用 eager execution？\n",
    "\n",
    "- 升級到 TensorFlow 2.0 Alpha\n",
    "- 在程式碼的最上方呼叫 `tf.enable_eager_execution()`"
   ]
  },
  {
   "cell_type": "markdown",
   "metadata": {
    "slideshow": {
     "slide_type": "subslide"
    }
   },
   "source": [
    "## 升級到 TensorFlow 2.0 Alpha\n",
    "\n",
    "<https://colab.research.google.com/drive/1sqpF7lLugnhalWGjSjtWI0iwztkZCVa0>"
   ]
  },
  {
   "cell_type": "markdown",
   "metadata": {
    "slideshow": {
     "slide_type": "subslide"
    }
   },
   "source": [
    "## 在程式碼的最上方呼叫 `tf.enable_eager_execution()`\n",
    "\n",
    "<https://colab.research.google.com/drive/1KnWI9f4DnVNgu5t6neJZWPFbzfaGuzP->"
   ]
  },
  {
   "cell_type": "markdown",
   "metadata": {
    "slideshow": {
     "slide_type": "subslide"
    }
   },
   "source": [
    "## Eager execution 與 Session 的使用目前只能二選一"
   ]
  },
  {
   "cell_type": "markdown",
   "metadata": {
    "slideshow": {
     "slide_type": "slide"
    }
   },
   "source": [
    "## TensorBoard"
   ]
  },
  {
   "cell_type": "markdown",
   "metadata": {
    "slideshow": {
     "slide_type": "subslide"
    }
   },
   "source": [
    "## 如何將 Graph 視覺化\n",
    "\n",
    "建立一個叫做 `graphs` 的資料夾\n",
    "\n",
    "```shell\n",
    "# run in command line\n",
    "mkdir graphs\n",
    "```"
   ]
  },
  {
   "cell_type": "markdown",
   "metadata": {
    "slideshow": {
     "slide_type": "subslide"
    }
   },
   "source": [
    "## 撰寫一個相加的運算"
   ]
  },
  {
   "cell_type": "code",
   "execution_count": 9,
   "metadata": {
    "slideshow": {
     "slide_type": "-"
    }
   },
   "outputs": [
    {
     "name": "stdout",
     "output_type": "stream",
     "text": [
      "15\n"
     ]
    }
   ],
   "source": [
    "import tensorflow as tf\n",
    "\n",
    "x = tf.constant(8, name=\"x\")\n",
    "y = tf.constant(7, name=\"y\")\n",
    "tf_add = tf.add(x, y)\n",
    "\n",
    "with tf.Session() as sess:\n",
    "    writer = tf.summary.FileWriter('./graphs/tf_add', sess.graph)\n",
    "    print(sess.run(tf_add))\n",
    "writer.close()"
   ]
  },
  {
   "cell_type": "markdown",
   "metadata": {
    "slideshow": {
     "slide_type": "subslide"
    }
   },
   "source": [
    "## 啟動 TensorBoard\n",
    "\n",
    "```shell\n",
    "# run in command line\n",
    "tensorboard --logdir=./graphs/tf_add --host=127.0.0.1\n",
    "```\n",
    "\n",
    "```\n",
    "## Starting TensorBoard b'41' on port 6006\n",
    "## (You can navigate to http://127.0.0.1:6006)\n",
    "```"
   ]
  },
  {
   "cell_type": "markdown",
   "metadata": {
    "slideshow": {
     "slide_type": "subslide"
    }
   },
   "source": [
    "## 打開 TensorBoard\n",
    "\n",
    "- 打開瀏覽器前往 http://127.0.0.1:6006\n",
    "- 點選 GRAPHS 頁籤"
   ]
  },
  {
   "cell_type": "markdown",
   "metadata": {
    "slideshow": {
     "slide_type": "subslide"
    }
   },
   "source": [
    "## We are all set!\n",
    "\n",
    "![](img/0105.png)"
   ]
  },
  {
   "cell_type": "markdown",
   "metadata": {
    "slideshow": {
     "slide_type": "subslide"
    }
   },
   "source": [
    "## TensorBoard 可以在筆記本中使用\n",
    "\n",
    "[Using TensorBoard in Notebooks](https://www.tensorflow.org/tensorboard/r2/tensorboard_in_notebooks)"
   ]
  },
  {
   "cell_type": "markdown",
   "metadata": {
    "slideshow": {
     "slide_type": "subslide"
    }
   },
   "source": [
    "## 前置作業\n",
    "\n",
    "- `!pip install tensorflow==2.0.0-alpha0`\n",
    "- `!pip install -q tf-nightly-2.0-preview`\n",
    "- `%load_ext tensorboard.notebook`"
   ]
  },
  {
   "cell_type": "markdown",
   "metadata": {
    "slideshow": {
     "slide_type": "subslide"
    }
   },
   "source": [
    "## 用官方的 Google Colab 試試看\n",
    "\n",
    "<https://colab.research.google.com/drive/1Te8B-Fj3XbhmpGY4pcj4FVPnOwYbb-6g>"
   ]
  },
  {
   "cell_type": "markdown",
   "metadata": {
    "slideshow": {
     "slide_type": "subslide"
    }
   },
   "source": [
    "## However, 2.0-alpha is still buggy..."
   ]
  },
  {
   "cell_type": "code",
   "execution_count": 10,
   "metadata": {},
   "outputs": [
    {
     "name": "stdout",
     "output_type": "stream",
     "text": [
      "b'Hello, TensorFlow!'\n"
     ]
    }
   ],
   "source": [
    "# e.g. We just want to try our \"hello world\" script...\n",
    "import tensorflow as tf\n",
    "\n",
    "hello = tf.constant('Hello, TensorFlow!')\n",
    "with tf.Session() as sess:\n",
    "    print(sess.run(hello))"
   ]
  },
  {
   "cell_type": "markdown",
   "metadata": {
    "slideshow": {
     "slide_type": "slide"
    }
   },
   "source": [
    "# 隨堂練習"
   ]
  },
  {
   "cell_type": "markdown",
   "metadata": {
    "slideshow": {
     "slide_type": "subslide"
    }
   },
   "source": [
    "## 使用 TensorFlow 實作攝氏溫度轉換華氏溫度的計算\n",
    "\n",
    "- 將現在台北市的攝氏溫度轉換為華氏溫度\n",
    "- 啟動 TensorBoard 服務觀察這個運算\n",
    "\n",
    "$$F = \\frac{9}{5}C + 32$$"
   ]
  }
 ],
 "metadata": {
  "celltoolbar": "Slideshow",
  "kernelspec": {
   "display_name": "TensorFlow",
   "language": "python",
   "name": "tensorflow"
  },
  "language_info": {
   "codemirror_mode": {
    "name": "ipython",
    "version": 3
   },
   "file_extension": ".py",
   "mimetype": "text/x-python",
   "name": "python",
   "nbconvert_exporter": "python",
   "pygments_lexer": "ipython3",
   "version": "3.6.8"
  }
 },
 "nbformat": 4,
 "nbformat_minor": 2
}
